{
 "cells": [
  {
   "cell_type": "code",
   "execution_count": 1,
   "id": "dac829e3-715a-427f-b948-30228ab86a70",
   "metadata": {},
   "outputs": [
    {
     "name": "stdout",
     "output_type": "stream",
     "text": [
      "Welcome to the Waste Disposal Program!\n",
      "Select a waste item by entering the corresponding number:\n",
      "1. plastic bottle\n",
      "2. paper\n",
      "3. food waste\n",
      "4. banana peel\n",
      "5. battery\n",
      "6. paint\n",
      "7. styrofoam\n",
      "8. diaper\n",
      "9. other\n",
      "0. Quit\n"
     ]
    },
    {
     "name": "stdin",
     "output_type": "stream",
     "text": [
      "Enter the number of the waste item (or '0' to quit):  2\n"
     ]
    },
    {
     "name": "stdout",
     "output_type": "stream",
     "text": [
      "Paper is recyclable. Place in the recycling bin.\n",
      "Select a waste item by entering the corresponding number:\n",
      "1. plastic bottle\n",
      "2. paper\n",
      "3. food waste\n",
      "4. banana peel\n",
      "5. battery\n",
      "6. paint\n",
      "7. styrofoam\n",
      "8. diaper\n",
      "9. other\n",
      "0. Quit\n"
     ]
    },
    {
     "name": "stdin",
     "output_type": "stream",
     "text": [
      "Enter the number of the waste item (or '0' to quit):  8\n"
     ]
    },
    {
     "name": "stdout",
     "output_type": "stream",
     "text": [
      "Diaper is general waste. Place in the general waste bin.\n",
      "Select a waste item by entering the corresponding number:\n",
      "1. plastic bottle\n",
      "2. paper\n",
      "3. food waste\n",
      "4. banana peel\n",
      "5. battery\n",
      "6. paint\n",
      "7. styrofoam\n",
      "8. diaper\n",
      "9. other\n",
      "0. Quit\n"
     ]
    },
    {
     "name": "stdin",
     "output_type": "stream",
     "text": [
      "Enter the number of the waste item (or '0' to quit):  9\n"
     ]
    },
    {
     "name": "stdout",
     "output_type": "stream",
     "text": [
      "Other is general waste. Place in the general waste bin.\n",
      "Select a waste item by entering the corresponding number:\n",
      "1. plastic bottle\n",
      "2. paper\n",
      "3. food waste\n",
      "4. banana peel\n",
      "5. battery\n",
      "6. paint\n",
      "7. styrofoam\n",
      "8. diaper\n",
      "9. other\n",
      "0. Quit\n"
     ]
    },
    {
     "name": "stdin",
     "output_type": "stream",
     "text": [
      "Enter the number of the waste item (or '0' to quit):  0\n"
     ]
    },
    {
     "name": "stdout",
     "output_type": "stream",
     "text": [
      "Thank you for using the Waste Disposal Program!❤️.\n",
      "Keep Ghana Clean🙌\n"
     ]
    }
   ],
   "source": [
    "class WasteDisposal:\n",
    "    def __init__(self):\n",
    "        # Initialize waste classification dictionary\n",
    "        self.waste_classification = {\n",
    "            \"plastic bottle\": \"recyclable\",\n",
    "            \"paper\": \"recyclable\",\n",
    "            \"food waste\": \"compostable\",\n",
    "            \"banana peel\": \"compostable\",\n",
    "            \"battery\": \"hazardous\",\n",
    "            \"paint\": \"hazardous\",\n",
    "            \"styrofoam\": \"general waste\",\n",
    "            \"diaper\": \"general waste\",\n",
    "            \"other\": \"general waste\"\n",
    "        }\n",
    "        \n",
    "        # Initialize disposal instructions dictionary\n",
    "        self.disposal_instructions = {\n",
    "            \"recyclable\": \"Place in the recycling bin.\",\n",
    "            \"compostable\": \"Place in the compost bin.\",\n",
    "            \"hazardous\": \"Place in the hazardous waste bin.\",\n",
    "            \"general waste\": \"Place in the general waste bin.\"\n",
    "        }\n",
    "\n",
    "    def classify_waste(self, waste_item):\n",
    "        # Get classification for the waste item\n",
    "        classification = self.waste_classification.get(waste_item)\n",
    "        \n",
    "        if classification:\n",
    "            instructions = self.disposal_instructions[classification]\n",
    "            return f\"{waste_item.capitalize()} is {classification}. {instructions}\"\n",
    "\n",
    "    def display_waste_options(self):\n",
    "        print(\"Select a waste item by entering the corresponding number:\")\n",
    "        for index, item in enumerate(self.waste_classification.keys(), start=1):\n",
    "            print(f\"{index}. {item}\")\n",
    "        print(\"0. Quit\")\n",
    "\n",
    "    def get_waste_item_by_number(self, number):\n",
    "        try:\n",
    "            if number == 0:\n",
    "                return None\n",
    "            item = list(self.waste_classification.keys())[number - 1]\n",
    "            return item\n",
    "        except IndexError:\n",
    "            return None\n",
    "\n",
    "    def run(self):\n",
    "        print(\"Welcome to the Waste Disposal Program!\")\n",
    "\n",
    "        \n",
    "        while True:\n",
    "            self.display_waste_options()\n",
    "            user_input = input(\"Enter the number of the waste item (or '0' to quit): \").strip() \n",
    "            \n",
    "            try:\n",
    "                number = int(user_input)\n",
    "                if number == 0:\n",
    "                    break\n",
    "                \n",
    "                waste_item = self.get_waste_item_by_number(number)\n",
    "                \n",
    "                if waste_item:\n",
    "                    result = self.classify_waste(waste_item)\n",
    "                    print(result)\n",
    "                else:\n",
    "                    print(\"Invalid selection. Please enter a valid number.\")\n",
    "            except ValueError:\n",
    "                print(\"Invalid input. Please enter a number.\")\n",
    "        \n",
    "        print(\"Thank you for using the Waste Disposal Program!❤️.\\nKeep Ghana Clean🙌\")\n",
    "\n",
    "if __name__ == \"__main__\":\n",
    "    program = WasteDisposal()\n",
    "    program.run()\n"
   ]
  }
 ],
 "metadata": {
  "kernelspec": {
   "display_name": "Python 3 (ipykernel)",
   "language": "python",
   "name": "python3"
  },
  "language_info": {
   "codemirror_mode": {
    "name": "ipython",
    "version": 3
   },
   "file_extension": ".py",
   "mimetype": "text/x-python",
   "name": "python",
   "nbconvert_exporter": "python",
   "pygments_lexer": "ipython3",
   "version": "3.11.7"
  }
 },
 "nbformat": 4,
 "nbformat_minor": 5
}
